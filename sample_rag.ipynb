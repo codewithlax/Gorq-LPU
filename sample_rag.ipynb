{
 "cells": [
  {
   "cell_type": "markdown",
   "metadata": {},
   "source": [
    "## Data Ingestion"
   ]
  },
  {
   "cell_type": "markdown",
   "metadata": {},
   "source": [
    "By Text Loader:\n"
   ]
  },
  {
   "cell_type": "code",
   "execution_count": 2,
   "metadata": {},
   "outputs": [
    {
     "data": {
      "text/plain": [
       "[Document(metadata={'source': 'sample.txt'}, page_content='Introduction to Data Science\\nData Science is an interdisciplinary field that uses scientific methods, processes, algorithms, and systems to extract insights and knowledge from structured and unstructured data. Data science is closely related to the fields of data mining, machine learning, and big data. The key components of data science include data collection, data cleaning, data analysis, and data visualization.\\n\\nData scientists use various tools such as Python, R, SQL, and cloud platforms to process large datasets and build models that help in decision-making. Popular libraries in Python used for data science include Pandas, NumPy, Scikit-learn, and TensorFlow.\\n\\nKey Concepts in Machine Learning\\nMachine learning is a subset of artificial intelligence (AI) that enables systems to learn and improve from experience without being explicitly programmed. There are three main types of machine learning:\\n\\nSupervised Learning: In this type, the model is trained using labeled data. The goal is to map input to output based on the example input-output pairs.\\n\\nExample algorithms: Linear Regression, Decision Trees, Support Vector Machines (SVM).\\nUnsupervised Learning: In this type, the model is used to find hidden patterns or intrinsic structures in data that is not labeled.\\n\\nExample algorithms: K-means Clustering, Hierarchical Clustering, Principal Component Analysis (PCA).\\nReinforcement Learning: Here, an agent learns to make decisions by taking actions in an environment to maximize some notion of cumulative reward.\\n\\nExample algorithms: Q-Learning, Deep Q Networks (DQN).\\nIntroduction to Large Language Models (LLMs)\\nLarge Language Models (LLMs) like GPT-3, GPT-4, and LLaMA are advanced models trained on massive amounts of text data to generate human-like text based on input prompts. These models use transformer architecture and can perform various tasks, including question-answering, text generation, translation, summarization, and more.\\n\\nThe key advantage of LLMs is their ability to handle diverse tasks without needing task-specific training. They are pre-trained on vast corpora of text data and can be fine-tuned or used with techniques like Retrieval-Augmented Generation (RAG) to make their output more accurate and contextually relevant.\\n\\nVector Databases for Retrieval\\nIn the context of RAG, vector databases are used to store text as embeddings (vector representations). When a query is submitted, the system retrieves the most relevant embeddings based on similarity to the query, allowing the model to respond with the most pertinent information. Tools like FAISS, Pinecone, or Databricks Vector Search can be used for indexing and querying embeddings in a scalable manner.')]"
      ]
     },
     "execution_count": 2,
     "metadata": {},
     "output_type": "execute_result"
    }
   ],
   "source": [
    "from langchain_community.document_loaders import TextLoader\n",
    "loader = TextLoader(\"sample.txt\")\n",
    "text_documents = loader.load()\n",
    "text_documents\n"
   ]
  },
  {
   "cell_type": "code",
   "execution_count": 7,
   "metadata": {},
   "outputs": [],
   "source": [
    "import os\n",
    "from dotenv import load_dotenv\n",
    "\n",
    "load_dotenv()\n",
    "\n",
    "os.environ['LANGCHAIN_API_KEY'] = os.getenv('LANGCHAIN_API_KEY')\n"
   ]
  },
  {
   "cell_type": "markdown",
   "metadata": {},
   "source": [
    "By Web Based Loader:"
   ]
  },
  {
   "cell_type": "code",
   "execution_count": 10,
   "metadata": {},
   "outputs": [],
   "source": [
    "from langchain_community.document_loaders import WebBaseLoader\n",
    "#Beatiful Soup\n",
    "import bs4 \n",
    "loader = WebBaseLoader(web_paths=(\"https://www.healthline.com/nutrition/protein-for-vegans-vegetarians\",),\n",
    "                       bs_kwargs=dict(parse_only = bs4.SoupStrainer(\n",
    "                           class_ = (\"touchevents-false\",\"chartbeat-section\",\"css-1avyp1d\")\n",
    "\n",
    "                       )))\n",
    "web_documents = loader.load()\n",
    "web_documents\n"
   ]
  },
  {
   "cell_type": "markdown",
   "metadata": {},
   "source": [
    "By PDF Loader:"
   ]
  },
  {
   "cell_type": "code",
   "execution_count": 26,
   "metadata": {},
   "outputs": [],
   "source": [
    "from langchain_community.document_loaders import PyPDFLoader\n",
    "loader=PyPDFLoader(\"meditation.pdf\")\n",
    "pdf_doc = loader.load()"
   ]
  },
  {
   "cell_type": "code",
   "execution_count": 27,
   "metadata": {},
   "outputs": [
    {
     "data": {
      "text/plain": [
       "[Document(metadata={'source': 'meditation.pdf', 'page': 0}, page_content='                                   \\n How to Meditate: A Primer for Beginners    \\n   JOEL M.     EVANS          \\n  key concepts  \\n      Th e main objective of the meditative experience is to shift   the  ■\\nfocus of the mind away from the frenzied thoughts of everyday \\nliving, such as worries about work, family, fi  nances, or simply \\nthe “to-do list” of the day.        Personal experience with meditation is required in order to \\n ■\\naccurately and sincerely communicate expected benefi  ts to \\npatients.        Meditation involves trying to train your thoughts to stay in the \\n ■\\npresent moment, because in the present moment there is true \\npeace.        Meditative experiences can be placed into three main catego-\\n ■\\nries: concentrative, expressive and movement.  \\n      Examples of meditation include: painting or drawing, working  ■\\nin the garden, staring at the ocean, playing with your pet, jour-\\nnaling, teaching your child how to play a sport, dancing freely to your favorite music, etc.        Other forms of meditation include tai chi and yoga, which \\n ■\\nincorporate breath work with choreographed movements. Th  ese \\nancient forms of meditation cleanse the mind of negative thoughts and, through proper breathing, put the mind in a relaxed and tranquil state in concert with body movements.        Expressive meditation involves creating an outlet for your cre-\\n ■\\native side, which neuroscientists believe lies in the right cerebral \\nh e m i s p h e r e .         '),\n",
       " Document(metadata={'source': 'meditation.pdf', 'page': 1}, page_content='   Introduction   \\n Aft er reading and digesting the scholarly discussion on the myriad health \\nbenefi  ts attributed to meditation, it is quite tempting for the busy physician \\nto simply tell his patients that they “need to meditate. ” However, when that recommendation — no matter how sincere, well-meaning or intellectually appropriate — is given by a physician that has not himself learned to meditate, the recommendation becomes hollow, compared to the same recommenda-tion from a regular meditator. \\n Personal experience with meditation is required in order to accurately and \\nsincerely communicate the benefi  ts you expect an individual patient, with his \\nor her unique needs, to experience, and it is impossible to present that infor-mation with clarity unless you “know” how the practice of meditation has eff ected your own life and health. Once you can speak using the authority of \\npersonal experience as part of the basis for your “meditation prescription, ” as well as actually guide your patients as you provide specifi  c instructions on how \\nto meditate, it will be extremely hard for your patients not to pick up on the conviction behind your recommendations, making them far more likely to be implemented. Aft  er all, doesn’t every physician want his patients to follow his \\nadvice so they can achieve better health? Learning to meditate and starting a regular meditation practice are vitally important ways to improve the lives of patients and physicians alike. \\n Th e main objective of the meditative experience is to shift   the focus of the \\nmind away from the frenzied thoughts of everyday living, such as worries about work, family, fi  nances or simply the “to-do list” of the day. Th  ere are \\ncountless ways, or techniques, to do this.     \\n   What is Meditation?   \\n Meditation involves trying to train your thoughts to stay in the present moment, because in the present moment there is true peace. Th  oughts of the \\nfuture (what can/might/will happen, leading to fear or anxiety) or of the past (what did or might have happened, leading to sadness, depression, anger, or jealousy) prevent us from feeling the peace that is in the present moment. In other words, being totally focused in the present moment means that you do not think about the past or the future, and are freed (for as long as the medita-tion session lasts) from the negative emotions (stress) that accompany those \\nthoughts.    '),\n",
       " Document(metadata={'source': 'meditation.pdf', 'page': 2}, page_content='   EXAMPLES OF MEDITATION      \\n      Can you think of an activity in which you totally lose track of time? • \\nWhen your attention is so focused that you say, “I don’t know where the time went?” Examples might be: painting or drawing, working in the garden, staring at the ocean, playing with your pet, journaling, teaching your child how to play a sport, dancing freely to your favor-ite music, etc. I found that when I was in the operating room perform-ing surgery, I was so focused that my operations became true meditations.        All of these situations are meditative experiences because there are no • \\nthoughts about the past or the future; the mind is thinking only of the present moment.        S o  a s  y o u  r e fl  ect on the experience(s) in your life where you lost track • \\nof time, you will realize that you also lost track of whatever was in your life that was causing you stress, whether it was a toxic relation-ship, a chronic illness, or the sadness that  comes with grief or loss.         \\n   CATEGORIES OF MEDITATION   \\n If you are lucky enough to have a hobby or some sort of activity in which you \\nengage on a daily basis and that makes you lose track of time, consider yourself \\none of the lucky people who have a regular meditation practice without know-ing it. However, the rest of us (the majority of people on the planet) need to create dedicated time in our schedule to engage in a formal activity to quiet the mind. As you can tell from the examples listed above, these experiences can be placed into three main categories:  \\n      C o n c e n t r a t i v e   • \\n      M o v e m e n t   • \\n      E x p r e s s i v e      • \\n Th ese three forms of meditation have been used for centuries in diff  erent \\ncultures and religious traditions. I will give examples of techniques for each category, and I suggest you experiment with them all so that you have enough experience to know what you like best (so it can become the start of your regu-lar meditation practice), as well as to know how to best explain them to your patients.      '),\n",
       " Document(metadata={'source': 'meditation.pdf', 'page': 3}, page_content='   How to Meditate      \\n      First, scheduling time to meditate is of the utmost importance.  • \\n      We all lead busy lives and, despite the best of intentions, without a • \\ndedicated time for an activity, life oft  en gets in the way and the activ-\\nity never happens. (Th  ink of the diffi   culty most people have fi  nding \\nthe time to exercise unless they commit to a certain schedule.)        Th erefore, a meditation practice starts with fi  nding the time on a daily • \\nbasis. Th  e good news here is that not a lot of time is required.     \\n A beginner can start with just a few minutes a day, eventually getting to \\n20 to 30 minutes a day as the benefi  ts to the meditator become so obvious that \\nit becomes the most important part of his or her day.    \\n   CONCENTRATIVE TECHNIQUES      \\n       I will discuss concentrative techniques fi  rst, because • \\nthey are ones that are most oft  en described, taught \\nand practiced.         Th ey all involve active concentration, consciously • \\nfocusing the mind on something specifi  c. Examples \\nof this type of meditation include staring at the dance of a candle fl  ame, continuously repeating a \\nword to yourself (such as  peace  ,  love  or  God ) or \\nsimply following your breath. Th  e goal is to concentrate and try to \\nignore the other thoughts that will unfortunately pop into your head.  \\n      Th e secret is to allow those thoughts to come and to let them go by not • \\nallowing the mind to get caught up in them.        \\n   Tips for Applying the Concentrative Techniques      \\n       Don’t keep thinking of an unpleasant incident, start • \\ngetting worked up, begin feeling angry or hurt all over again and begin to plan your revenge. Th  at is  not  a \\nmeditative experience, but serves as an illustration of how a thought that arises, which is of a negative inci-dent, is given additional power by thoughts of the emotions associated with it (how you feel) as well as the thoughts of how to achieve retribution.  \\n'),\n",
       " Document(metadata={'source': 'meditation.pdf', 'page': 4}, page_content='      Instead of thinking that way, try your best to simply note that this is a • \\nthought that is occurring, and do your best to refocus your attention on the candle and not get stuck in the drama of the bad experience. Th is may be diffi   cult to do at fi  rst, but with practice it certainly can be \\ndone, although rarely to total perfection, except by yogis or monks.        If you need proof of the usefulness of these techniques, just ask an • \\nexperienced meditator, who will likely be happy to share his or her success stories as well as the challenges that never fully go away.         \\n   Positioning      \\n       B e f o r e  s t a r t i n g ,  i t  i s  i m p o r t a n t  t o  p o s i t i o n  • \\nyourself properly, which means that you should be sitting comfortably, not lying down.         Sitting in a chair is fi  ne; just keep your feet on • \\nthe fl  oor. Sitting on the fl  oor works just as well, \\nwith or without a cushion, but try to keep your back as close to straight as you can without pain or a lot of eff  ort.  \\n      Y ou should not be distracted by tight clothing and your shoes should • \\nbe off  .  \\n      A quiet place is best for concentrative work, as is a comfortable • \\ntemperature.        M a n y  r e g u l a r  m e d i t a t o r s  l i k e  to create a special place to meditate • \\nand feel they benefi  t from sitting in front of things that have special \\nmeaning, such as pictures of loved ones, sacred objects, or crystals (amethyst is reported to enhance meditation).        While it is appropriate to try to achieve these “ideal” conditions, one • \\nof the wonders of meditation is that it can occur anywhere and every-where, even in the harshest of conditions, and that even true begin-ners have had eff  ective meditations sitting on the ground outdoors in \\nthe noisy chaos of a United Nations refugee camp.         \\n   Quieting the Mind      \\n       Th e fi nal step in preparing for a quiet, • \\nconcentrative meditation is to perform a technique that will help quiet the mind.         A ft er getting comfortable (as described • \\nabove), simply take your right hand and \\n'),\n",
       " Document(metadata={'source': 'meditation.pdf', 'page': 5}, page_content=' hold the center of your palm approximately 3 to 4 inches away from \\nthe spot on your forehead that is above your nose at the level of and in the middle of your eyebrows.        Close your eyes and rotate your hand so that the center of your palm • \\nmakes the outline of a circle that is the size of a quarter. Move your hand toward your left  , such that if an observer were facing you, your \\nhand would be moving in a clockwise direction.        If, as you move your hand, you gradually enlarge the size of the circle, • \\nthat is not a problem. People may experience diff  erent sensations \\nfrom this, such as a feeling of heat coming from their hand to their forehead, but almost everyone fi  nds that it helps quiet the mind. \\nWhen you feel your mind has quieted down a little, meaning you are not paying much attention to any thoughts that may be arising, it is time to start focusing on the object of your concentrative meditation (looking at a candle, repeating a prayer, word or phrase, or focusing on the breath).  \\n  FOCUS ON THE BREATH  \\n      Th e most popular concentrative meditation is to focus on the breath.  • \\n      Th is is extremely versatile, since no supplies (like a candle) are needed, • \\nand it can be done wherever we are.        Th e way this meditation is performed is to simply focus on your • \\nbreath as it comes in and out of your body.        Try breathing in through your nose and out through your mouth • \\n(don’t worry about doing this if your nose is stuff  ed), being aware of \\nthe air coming in and going out.        By keeping your focus on the breath you prevent other thoughts from • \\ncoming in. If they do, simply let them go as best you can, and return to concentrating on your breathing.        Try to do this for a minute or two when you fi  rst start, and continue • \\nfor longer when you feel you are able.          \\n   VARIATIONS ON A THEME      \\n       Th ere are many variations to this most basic • \\nscript. It can be done in silence or with music that you fi  nd relaxing.  \\n       I f  y o u  fi  nd your focus drift  ing from your breath • \\nto the music, allow it to happen — it is just another form of meditation.  \\n'),\n",
       " Document(metadata={'source': 'meditation.pdf', 'page': 6}, page_content='      Y ou may feel you can control your mind better by adding the mental • \\ndiscipline of repeating in your mind a word or phrase in coordination with your breathing. An example would be the phrase “soft   belly, ” think-\\ning of the word “soft  ” on the in breath and “belly” on the out breath.  \\n      Another way to structure the meditative process is, aft  er getting com- • \\nfortable and performing the hand motions previously described, to  go \\nthrough a prescribed pattern of thinking before starting the concentra-tive part of the meditation   (in this case, the focusing in the breath.  \\n   \\n/H17034  An example of this is the pattern of thought that I personally use \\nevery day, which I off  er here for you to use as described, or to \\nmodify to your liking.  \\n   /H17034  I share this with you not because I want you to think a certain way \\nbut because you might fi  nd it helpful.  \\n   /H17034  Th is pattern of thinking helps me quiet m y mind before starting \\nmy concentrative meditation by getting my negative thoughts out of the way so that they are less likely to intrude during my medita-t i o n  t i m e .           \\n   Expressing Gratitude      \\n      S p e c i fi  cally, I begin each of my meditations by expressing gratitude • \\nfor all that I have in my life, both the pleasant and the unpleasant.        Th is forces me to try to fi  nd positives in the challenges I face, helping • \\nme to diminish, sometimes just ever so slightly, the drama with which the circumstances are associated.        I then try to get to a place of surrender, where I work on making myself • \\nbelieve that I can’t consciously understand or control the events of my life. I have found that no longer lamenting “why me?” when life gets rough forces me to accept the situation at hand and frees up a lot of my mental energy, enabling me to focus forward on fi  nding solutions.  \\n      Th is ritual, which I perform every morning before starting the con-• \\ncentrative piece, clears my mind and prepares me for a more eff  ective, \\ndeep and powerful meditation experience.          \\n   SETTLING INTO THE MEDITATIVE MOMENT      \\n       If sitting and thinking seems quite diffi   cult for • \\ny o u ,  t h e n  y o u  m i g h t  b e  b e s t  s e r v e d  b y  fi  rst \\ntrying a movement meditation, where there are no instructions other than to move! Th  at’s \\ncorrect: all you have to do is just move.  \\n'),\n",
       " Document(metadata={'source': 'meditation.pdf', 'page': 7}, page_content='      Th at means you can shake your body wildly, or dance (modern or • \\nballroom or tribal or ethnic) around the room to loud music that you really like. Th  is is probably best done wi th no one else around (one \\nmight be self-conscious, as this could look quite silly to an observer). See how you feel aft  er 5 minutes . . . if you want to continue, do so.  \\n      A ft erwards, try to keep still for a few minutes, paying attention to • \\nyour breath. Don’t be surprised if emotions come up while you are shaking or dancing. Th  is is not an uncommon occurrence, especially \\nif you have emotions just below the surface that have not yet been addressed.        Becoming emotional during vigorous movement is a healthy way to • \\nmove through and clear emotions. Of course, if this technique brings up powerful emotions that aff  ect you throughout the day, working \\nthings through with a professional is far better than hoping that you can just shake the discomfort away.        Finally, movement meditations are a wonderful choice for those who • \\nfeel stuck, either emotionally or elsewhere in their lives.        \\n   Movement Meditation through Martial Arts      \\n      A discussion of movement meditation would be incomplete without • \\nmentioning yoga, tai chi, qigong and other martial arts, which, in their pure form, are not only a meditation but also a way of life.        All are ancient disciplines that blend controlling thought (primarily • \\nby focusing on breath) with movement (through postures or detailed choreographed routines) in order to achieve harmony between mind and body.        I strongly encourage all practitioners to take an introductory class in • \\na few of these techniques to decide if one feels right for you, and to help you explain them to your patients.     \\n Th e editor regularly engages in tai chi, which incorporates breath work with \\nchoreographed movements (please see Chapter 22). My signifi  cant other is a \\nyoga instructor. Her practice is to cleanse the mind of negative thoughts and through proper breathing, putting the mind in a relaxed and tranquil state in concert with body movements (see Chapter 35).      '),\n",
       " Document(metadata={'source': 'meditation.pdf', 'page': 8}, page_content='   EXPRESSIVE MEDICATION: CREATING AN OUTLET FOR MEDITATING      \\n      Th e last category of meditation, expressive meditation, involves creat-• \\ning an outlet for your creative side, which neuroscientists believe lies in the right cerebral hemisphere.        Examples are journaling, drawing, or even working with sand, sticks • \\nand small stones, allowing your hands to create whatever they desire while you listen to relaxing music and fully concentrate on the task at hand.        Th e way to journal is to fi  nd some private time to just write down • \\ntruthfully and honestly how you think and feel about whatever topic comes up.        Some structure this by writing about the important events of the day • \\nand their associated thoughts and feelings. Others write about a par-ticular topic, such as writing daily about all the issues surrounding a chronic illness.        M a n y  p e o p l e  fi  nd that when they write exactly what they think or feel • \\nwithout letting their mind get in the way (by judging their grammar or deciding if a topic is off   limits) they gain important insights into \\ntheir situation, in addition to feeling less stressed and more relaxed.          \\n   Conclusions   \\n An important fi  nal note is that this discussion, as stated in the title, was \\ndesigned to deliver information on how to meditate at an introductory level. It was important to take information that was previously held secret and explained in complicated ways, and to package it to be readily understandable. I wanted to teach meditation in a way that could be embraced and understood by all, without the religious or cultural overtones that can serve as a block for some, or a source of deep meaning for others. While this approach has neces-sitated making arbitrary classifi  cations and eliminating discussion of the spir-\\nitual aspects of a meditation practice, I know, through my own personal journey and professional experience, that practicing meditation in this reli-giously neutral, simple, and practical way has helped transform the lives of thousands of people. It is my fi  rm belief that those that wish to learn and expe-\\nrience the esoteric and spiritual benefi  ts of meditation will be led to, and will \\nfi nd, that which they sincerely seek.       ')]"
      ]
     },
     "execution_count": 27,
     "metadata": {},
     "output_type": "execute_result"
    }
   ],
   "source": [
    "pdf_doc"
   ]
  },
  {
   "cell_type": "markdown",
   "metadata": {},
   "source": [
    "## Data Transformation:"
   ]
  },
  {
   "cell_type": "markdown",
   "metadata": {},
   "source": [
    "Chunking:"
   ]
  },
  {
   "cell_type": "code",
   "execution_count": 28,
   "metadata": {},
   "outputs": [
    {
     "data": {
      "text/plain": [
       "[Document(metadata={'source': 'meditation.pdf', 'page': 0}, page_content='How to Meditate: A Primer for Beginners    \\n   JOEL M.     EVANS          \\n  key concepts  \\n      Th e main objective of the meditative experience is to shift   the  ■\\nfocus of the mind away from the frenzied thoughts of everyday \\nliving, such as worries about work, family, fi  nances, or simply \\nthe “to-do list” of the day.        Personal experience with meditation is required in order to \\n ■\\naccurately and sincerely communicate expected benefi  ts to \\npatients.        Meditation involves trying to train your thoughts to stay in the \\n ■\\npresent moment, because in the present moment there is true \\npeace.        Meditative experiences can be placed into three main catego-\\n ■\\nries: concentrative, expressive and movement.  \\n      Examples of meditation include: painting or drawing, working  ■\\nin the garden, staring at the ocean, playing with your pet, jour-'),\n",
       " Document(metadata={'source': 'meditation.pdf', 'page': 0}, page_content='■\\nries: concentrative, expressive and movement.  \\n      Examples of meditation include: painting or drawing, working  ■\\nin the garden, staring at the ocean, playing with your pet, jour-\\nnaling, teaching your child how to play a sport, dancing freely to your favorite music, etc.        Other forms of meditation include tai chi and yoga, which \\n ■\\nincorporate breath work with choreographed movements. Th  ese \\nancient forms of meditation cleanse the mind of negative thoughts and, through proper breathing, put the mind in a relaxed and tranquil state in concert with body movements.        Expressive meditation involves creating an outlet for your cre-\\n ■\\native side, which neuroscientists believe lies in the right cerebral \\nh e m i s p h e r e .'),\n",
       " Document(metadata={'source': 'meditation.pdf', 'page': 1}, page_content='Introduction   \\n Aft er reading and digesting the scholarly discussion on the myriad health \\nbenefi  ts attributed to meditation, it is quite tempting for the busy physician \\nto simply tell his patients that they “need to meditate. ” However, when that recommendation — no matter how sincere, well-meaning or intellectually appropriate — is given by a physician that has not himself learned to meditate, the recommendation becomes hollow, compared to the same recommenda-tion from a regular meditator. \\n Personal experience with meditation is required in order to accurately and \\nsincerely communicate the benefi  ts you expect an individual patient, with his \\nor her unique needs, to experience, and it is impossible to present that infor-mation with clarity unless you “know” how the practice of meditation has eff ected your own life and health. Once you can speak using the authority of'),\n",
       " Document(metadata={'source': 'meditation.pdf', 'page': 1}, page_content='personal experience as part of the basis for your “meditation prescription, ” as well as actually guide your patients as you provide specifi  c instructions on how \\nto meditate, it will be extremely hard for your patients not to pick up on the conviction behind your recommendations, making them far more likely to be implemented. Aft  er all, doesn’t every physician want his patients to follow his \\nadvice so they can achieve better health? Learning to meditate and starting a regular meditation practice are vitally important ways to improve the lives of patients and physicians alike. \\n Th e main objective of the meditative experience is to shift   the focus of the \\nmind away from the frenzied thoughts of everyday living, such as worries about work, family, fi  nances or simply the “to-do list” of the day. Th  ere are \\ncountless ways, or techniques, to do this.     \\n   What is Meditation?'),\n",
       " Document(metadata={'source': 'meditation.pdf', 'page': 1}, page_content='countless ways, or techniques, to do this.     \\n   What is Meditation?   \\n Meditation involves trying to train your thoughts to stay in the present moment, because in the present moment there is true peace. Th  oughts of the \\nfuture (what can/might/will happen, leading to fear or anxiety) or of the past (what did or might have happened, leading to sadness, depression, anger, or jealousy) prevent us from feeling the peace that is in the present moment. In other words, being totally focused in the present moment means that you do not think about the past or the future, and are freed (for as long as the medita-tion session lasts) from the negative emotions (stress) that accompany those \\nthoughts.')]"
      ]
     },
     "execution_count": 28,
     "metadata": {},
     "output_type": "execute_result"
    }
   ],
   "source": [
    "from langchain_text_splitters import RecursiveCharacterTextSplitter\n",
    "text_splitter = RecursiveCharacterTextSplitter(chunk_size = 1000, chunk_overlap = 200)\n",
    "documents = text_splitter.split_documents(pdf_doc)\n",
    "documents[:5]"
   ]
  },
  {
   "cell_type": "markdown",
   "metadata": {},
   "source": [
    "Vector Embeddings and Vector Store:"
   ]
  },
  {
   "cell_type": "code",
   "execution_count": null,
   "metadata": {},
   "outputs": [],
   "source": [
    "# Clearing the db:\n",
    "# from chromadb import Client\n",
    "\n",
    "# # Initialize the Chroma client\n",
    "# client = Client()\n",
    "\n",
    "# # List all collections\n",
    "# collections = client.list_collections()\n",
    "\n",
    "# # Print the collection names\n",
    "# for collection in collections:\n",
    "#     print(collection.name)\n",
    "\n",
    "# client = Client()\n",
    "\n",
    "# client.delete_collection(name=\"langchain\")\n",
    "\n",
    "# client = Client()\n"
   ]
  },
  {
   "cell_type": "code",
   "execution_count": 39,
   "metadata": {},
   "outputs": [],
   "source": [
    "#from langchain_community.embeddings import OpenAIEmbeddings\n",
    "from langchain_community.embeddings import OllamaEmbeddings\n",
    "from langchain_community.vectorstores import Chroma\n",
    "\n",
    "db = Chroma.from_documents(documents,OllamaEmbeddings())"
   ]
  },
  {
   "cell_type": "code",
   "execution_count": 61,
   "metadata": {},
   "outputs": [
    {
     "data": {
      "text/plain": [
       "[Document(metadata={'page': 1, 'source': 'meditation.pdf'}, page_content='personal experience as part of the basis for your “meditation prescription, ” as well as actually guide your patients as you provide specifi  c instructions on how \\nto meditate, it will be extremely hard for your patients not to pick up on the conviction behind your recommendations, making them far more likely to be implemented. Aft  er all, doesn’t every physician want his patients to follow his \\nadvice so they can achieve better health? Learning to meditate and starting a regular meditation practice are vitally important ways to improve the lives of patients and physicians alike. \\n Th e main objective of the meditative experience is to shift   the focus of the \\nmind away from the frenzied thoughts of everyday living, such as worries about work, family, fi  nances or simply the “to-do list” of the day. Th  ere are \\ncountless ways, or techniques, to do this.     \\n   What is Meditation?'),\n",
       " Document(metadata={'page': 8, 'source': 'meditation.pdf'}, page_content='itual aspects of a meditation practice, I know, through my own personal journey and professional experience, that practicing meditation in this reli-giously neutral, simple, and practical way has helped transform the lives of thousands of people. It is my fi  rm belief that those that wish to learn and expe-\\nrience the esoteric and spiritual benefi  ts of meditation will be led to, and will \\nfi nd, that which they sincerely seek.'),\n",
       " Document(metadata={'page': 7, 'source': 'meditation.pdf'}, page_content='a few of these techniques to decide if one feels right for you, and to help you explain them to your patients.     \\n Th e editor regularly engages in tai chi, which incorporates breath work with \\nchoreographed movements (please see Chapter 22). My signifi  cant other is a \\nyoga instructor. Her practice is to cleanse the mind of negative thoughts and through proper breathing, putting the mind in a relaxed and tranquil state in concert with body movements (see Chapter 35).'),\n",
       " Document(metadata={'page': 1, 'source': 'meditation.pdf'}, page_content='countless ways, or techniques, to do this.     \\n   What is Meditation?   \\n Meditation involves trying to train your thoughts to stay in the present moment, because in the present moment there is true peace. Th  oughts of the \\nfuture (what can/might/will happen, leading to fear or anxiety) or of the past (what did or might have happened, leading to sadness, depression, anger, or jealousy) prevent us from feeling the peace that is in the present moment. In other words, being totally focused in the present moment means that you do not think about the past or the future, and are freed (for as long as the medita-tion session lasts) from the negative emotions (stress) that accompany those \\nthoughts.')]"
      ]
     },
     "execution_count": 61,
     "metadata": {},
     "output_type": "execute_result"
    }
   ],
   "source": [
    "query = \"Introduction\"\n",
    "result = db.similarity_search(query)\n",
    "result"
   ]
  },
  {
   "cell_type": "code",
   "execution_count": 44,
   "metadata": {},
   "outputs": [],
   "source": [
    "from langchain_community.vectorstores import FAISS\n",
    "\n",
    "db_Faiss = FAISS.from_documents(documents,OllamaEmbeddings())"
   ]
  },
  {
   "cell_type": "code",
   "execution_count": 47,
   "metadata": {},
   "outputs": [
    {
     "data": {
      "text/plain": [
       "'personal experience as part of the basis for your “meditation prescription, ” as well as actually guide your patients as you provide specifi  c instructions on how \\nto meditate, it will be extremely hard for your patients not to pick up on the conviction behind your recommendations, making them far more likely to be implemented. Aft  er all, doesn’t every physician want his patients to follow his \\nadvice so they can achieve better health? Learning to meditate and starting a regular meditation practice are vitally important ways to improve the lives of patients and physicians alike. \\n Th e main objective of the meditative experience is to shift   the focus of the \\nmind away from the frenzied thoughts of everyday living, such as worries about work, family, fi  nances or simply the “to-do list” of the day. Th  ere are \\ncountless ways, or techniques, to do this.     \\n   What is Meditation?'"
      ]
     },
     "execution_count": 47,
     "metadata": {},
     "output_type": "execute_result"
    }
   ],
   "source": [
    "query = \"Introduction\"\n",
    "result = db_Faiss.similarity_search(query)\n",
    "result[0].page_content"
   ]
  },
  {
   "cell_type": "markdown",
   "metadata": {},
   "source": [
    "Chaining LLM and Prompts:"
   ]
  },
  {
   "cell_type": "code",
   "execution_count": 73,
   "metadata": {},
   "outputs": [],
   "source": [
    "from langchain_community.llms import Ollama\n",
    "llm = Ollama(model = \"llama2\")\n",
    "\n",
    "from langchain.prompts import ChatPromptTemplate\n",
    "prompt = ChatPromptTemplate.from_template(\"\"\" You are a chatbot. Answer the following question with based on the context provided. Just keep the reply straight forward (short and crisp).\n",
    "                            context: {context}.\n",
    "                            question: {input}                          \n",
    "                            \"\"\")"
   ]
  },
  {
   "cell_type": "code",
   "execution_count": 74,
   "metadata": {},
   "outputs": [],
   "source": [
    "from langchain.chains.combine_documents import create_stuff_documents_chain\n",
    "document_chain = create_stuff_documents_chain(llm,prompt)"
   ]
  },
  {
   "cell_type": "code",
   "execution_count": 75,
   "metadata": {},
   "outputs": [
    {
     "data": {
      "text/plain": [
       "VectorStoreRetriever(tags=['Chroma', 'OllamaEmbeddings'], vectorstore=<langchain_community.vectorstores.chroma.Chroma object at 0x000001F5EA9E3D00>)"
      ]
     },
     "execution_count": 75,
     "metadata": {},
     "output_type": "execute_result"
    }
   ],
   "source": [
    "# Using Retrieval Interface\n",
    "retriever = db.as_retriever()\n",
    "retriever"
   ]
  },
  {
   "cell_type": "code",
   "execution_count": 76,
   "metadata": {},
   "outputs": [],
   "source": [
    "from langchain.chains import create_retrieval_chain\n",
    "retrival_chain = create_retrieval_chain(retriever,document_chain)"
   ]
  },
  {
   "cell_type": "code",
   "execution_count": 78,
   "metadata": {},
   "outputs": [
    {
     "data": {
      "text/plain": [
       "'The categories of meditation are concentrative, expressive, and movement-based.'"
      ]
     },
     "execution_count": 78,
     "metadata": {},
     "output_type": "execute_result"
    }
   ],
   "source": [
    "response = retrival_chain.invoke({'input':'what are the categories of meditation?'})\n",
    "response['answer']"
   ]
  }
 ],
 "metadata": {
  "kernelspec": {
   "display_name": "venv",
   "language": "python",
   "name": "python3"
  },
  "language_info": {
   "codemirror_mode": {
    "name": "ipython",
    "version": 3
   },
   "file_extension": ".py",
   "mimetype": "text/x-python",
   "name": "python",
   "nbconvert_exporter": "python",
   "pygments_lexer": "ipython3",
   "version": "3.8.2"
  }
 },
 "nbformat": 4,
 "nbformat_minor": 2
}
